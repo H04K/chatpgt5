{
 "cells": [
  {
   "cell_type": "code",
   "execution_count": 15,
   "metadata": {},
   "outputs": [],
   "source": [
    "import pandas as pd\n",
    "#load data from raw \n",
    "squad_df = pd.read_csv(\"../data/raw/squad.csv\")\n",
    "\n"
   ]
  },
  {
   "cell_type": "code",
   "execution_count": 20,
   "metadata": {},
   "outputs": [],
   "source": [
    "#get element betxeen brackets in a string\n",
    "def get_element_between_brackets(string):\n",
    "    return string[string.find(\"[\")+1:string.find(\"]\")]\n",
    "#convert the target_text column to a list of strings\n",
    "squad_df[\"target_text\"] = squad_df[\"target_text\"].apply(lambda x: get_element_between_brackets(x))\n",
    "#remove '\n",
    "squad_df[\"target_text\"] = squad_df[\"target_text\"].apply(lambda x: x.replace(\"'\",\"\"))\n",
    "\n"
   ]
  },
  {
   "cell_type": "code",
   "execution_count": null,
   "metadata": {},
   "outputs": [],
   "source": []
  },
  {
   "cell_type": "code",
   "execution_count": 21,
   "metadata": {},
   "outputs": [
    {
     "data": {
      "text/html": [
       "<div>\n",
       "<style scoped>\n",
       "    .dataframe tbody tr th:only-of-type {\n",
       "        vertical-align: middle;\n",
       "    }\n",
       "\n",
       "    .dataframe tbody tr th {\n",
       "        vertical-align: top;\n",
       "    }\n",
       "\n",
       "    .dataframe thead th {\n",
       "        text-align: right;\n",
       "    }\n",
       "</style>\n",
       "<table border=\"1\" class=\"dataframe\">\n",
       "  <thead>\n",
       "    <tr style=\"text-align: right;\">\n",
       "      <th></th>\n",
       "      <th>target_text</th>\n",
       "      <th>input_text</th>\n",
       "    </tr>\n",
       "  </thead>\n",
       "  <tbody>\n",
       "    <tr>\n",
       "      <th>0</th>\n",
       "      <td>'in the late 1990s'</td>\n",
       "      <td>Beyoncé Beyoncé Giselle Knowles-Carter (/biːˈj...</td>\n",
       "    </tr>\n",
       "    <tr>\n",
       "      <th>1</th>\n",
       "      <td>'singing and dancing'</td>\n",
       "      <td>Beyoncé Beyoncé Giselle Knowles-Carter (/biːˈj...</td>\n",
       "    </tr>\n",
       "    <tr>\n",
       "      <th>2</th>\n",
       "      <td>'2003'</td>\n",
       "      <td>Beyoncé Beyoncé Giselle Knowles-Carter (/biːˈj...</td>\n",
       "    </tr>\n",
       "    <tr>\n",
       "      <th>3</th>\n",
       "      <td>'Houston, Texas'</td>\n",
       "      <td>Beyoncé Beyoncé Giselle Knowles-Carter (/biːˈj...</td>\n",
       "    </tr>\n",
       "    <tr>\n",
       "      <th>4</th>\n",
       "      <td>'late 1990s'</td>\n",
       "      <td>Beyoncé Beyoncé Giselle Knowles-Carter (/biːˈj...</td>\n",
       "    </tr>\n",
       "  </tbody>\n",
       "</table>\n",
       "</div>"
      ],
      "text/plain": [
       "             target_text                                         input_text\n",
       "0    'in the late 1990s'  Beyoncé Beyoncé Giselle Knowles-Carter (/biːˈj...\n",
       "1  'singing and dancing'  Beyoncé Beyoncé Giselle Knowles-Carter (/biːˈj...\n",
       "2                 '2003'  Beyoncé Beyoncé Giselle Knowles-Carter (/biːˈj...\n",
       "3       'Houston, Texas'  Beyoncé Beyoncé Giselle Knowles-Carter (/biːˈj...\n",
       "4           'late 1990s'  Beyoncé Beyoncé Giselle Knowles-Carter (/biːˈj..."
      ]
     },
     "execution_count": 21,
     "metadata": {},
     "output_type": "execute_result"
    }
   ],
   "source": [
    "squad_df.head()"
   ]
  },
  {
   "cell_type": "code",
   "execution_count": null,
   "metadata": {},
   "outputs": [],
   "source": []
  },
  {
   "cell_type": "code",
   "execution_count": null,
   "metadata": {},
   "outputs": [],
   "source": []
  },
  {
   "cell_type": "code",
   "execution_count": null,
   "metadata": {},
   "outputs": [],
   "source": []
  }
 ],
 "metadata": {
  "kernelspec": {
   "display_name": "Python 3",
   "language": "python",
   "name": "python3"
  },
  "language_info": {
   "codemirror_mode": {
    "name": "ipython",
    "version": 3
   },
   "file_extension": ".py",
   "mimetype": "text/x-python",
   "name": "python",
   "nbconvert_exporter": "python",
   "pygments_lexer": "ipython3",
   "version": "3.9.10"
  },
  "orig_nbformat": 4,
  "vscode": {
   "interpreter": {
    "hash": "949777d72b0d2535278d3dc13498b2535136f6dfe0678499012e853ee9abcab1"
   }
  }
 },
 "nbformat": 4,
 "nbformat_minor": 2
}
